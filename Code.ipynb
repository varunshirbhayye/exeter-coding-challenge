{
 "cells": [
  {
   "cell_type": "code",
   "execution_count": 1,
   "metadata": {},
   "outputs": [],
   "source": [
    "import pandas as pd\n",
    "import numpy as np\n",
    "import tracemalloc\n",
    "import time\n",
    "\n",
    "start=time.time()\n",
    "tracemalloc.start()"
   ]
  },
  {
   "cell_type": "code",
   "execution_count": 2,
   "metadata": {},
   "outputs": [],
   "source": [
    "data = pd.read_csv(\"C:\\\\Users\\\\VARUN\\\\Desktop\\\\exeter\\\\french_dictionary.csv\",header=None, index_col=False)"
   ]
  },
  {
   "cell_type": "code",
   "execution_count": 3,
   "metadata": {},
   "outputs": [
    {
     "data": {
      "text/html": [
       "<div>\n",
       "<style scoped>\n",
       "    .dataframe tbody tr th:only-of-type {\n",
       "        vertical-align: middle;\n",
       "    }\n",
       "\n",
       "    .dataframe tbody tr th {\n",
       "        vertical-align: top;\n",
       "    }\n",
       "\n",
       "    .dataframe thead th {\n",
       "        text-align: right;\n",
       "    }\n",
       "</style>\n",
       "<table border=\"1\" class=\"dataframe\">\n",
       "  <thead>\n",
       "    <tr style=\"text-align: right;\">\n",
       "      <th></th>\n",
       "      <th>0</th>\n",
       "      <th>1</th>\n",
       "    </tr>\n",
       "  </thead>\n",
       "  <tbody>\n",
       "    <tr>\n",
       "      <th>0</th>\n",
       "      <td>abide</td>\n",
       "      <td>respecter</td>\n",
       "    </tr>\n",
       "    <tr>\n",
       "      <th>1</th>\n",
       "      <td>about</td>\n",
       "      <td>sur</td>\n",
       "    </tr>\n",
       "    <tr>\n",
       "      <th>2</th>\n",
       "      <td>above</td>\n",
       "      <td>au dessus</td>\n",
       "    </tr>\n",
       "    <tr>\n",
       "      <th>3</th>\n",
       "      <td>abroad</td>\n",
       "      <td>à l'étranger</td>\n",
       "    </tr>\n",
       "    <tr>\n",
       "      <th>4</th>\n",
       "      <td>absence</td>\n",
       "      <td>absence</td>\n",
       "    </tr>\n",
       "  </tbody>\n",
       "</table>\n",
       "</div>"
      ],
      "text/plain": [
       "         0             1\n",
       "0    abide     respecter\n",
       "1    about           sur\n",
       "2    above     au dessus\n",
       "3   abroad  à l'étranger\n",
       "4  absence       absence"
      ]
     },
     "execution_count": 3,
     "metadata": {},
     "output_type": "execute_result"
    }
   ],
   "source": [
    "data.head()"
   ]
  },
  {
   "cell_type": "code",
   "execution_count": 4,
   "metadata": {},
   "outputs": [
    {
     "data": {
      "text/plain": [
       "(1000, 2)"
      ]
     },
     "execution_count": 4,
     "metadata": {},
     "output_type": "execute_result"
    }
   ],
   "source": [
    "data.shape"
   ]
  },
  {
   "cell_type": "code",
   "execution_count": 5,
   "metadata": {},
   "outputs": [],
   "source": [
    "eng=list(data[0])"
   ]
  },
  {
   "cell_type": "code",
   "execution_count": 6,
   "metadata": {},
   "outputs": [],
   "source": [
    "french=list(data[1])"
   ]
  },
  {
   "cell_type": "code",
   "execution_count": 7,
   "metadata": {},
   "outputs": [],
   "source": [
    "data.columns=['English','French']"
   ]
  },
  {
   "cell_type": "code",
   "execution_count": 8,
   "metadata": {},
   "outputs": [
    {
     "name": "stdout",
     "output_type": "stream",
     "text": [
      "Total Changed words in the file 104716\n"
     ]
    }
   ],
   "source": [
    "f1 = open(\"t8.shakespeare.translated.txt\", \"w+\")\n",
    "\n",
    "count=0\n",
    "\n",
    "diction={}\n",
    "with open('t8.shakespeare.txt','r+') as f:\n",
    "    for line in f:\n",
    "        for word in line.split():\n",
    "            \n",
    "               \n",
    "            if(word.lower() in eng):\n",
    "                count+=1\n",
    "                z1=french[eng.index(word.lower())]\n",
    "                f1.write(z1)\n",
    "                if(z1 in diction):\n",
    "                    diction[z1]+=1\n",
    "                else:\n",
    "                    diction[z1]=1\n",
    "                \n",
    "                \n",
    "            else:\n",
    "                f1.write(word)\n",
    "            f1.write(\" \")\n",
    "        f1.write(\"\\n\")\n",
    "f1.close()\n",
    "print(\"Total Changed words in the file :-\",count)"
   ]
  },
  {
   "cell_type": "code",
   "execution_count": 9,
   "metadata": {},
   "outputs": [
    {
     "name": "stdout",
     "output_type": "stream",
     "text": [
      "Count of the Unique English Word that changed into French Words 955\n"
     ]
    }
   ],
   "source": [
    "import csv  \n",
    "    \n",
    "\n",
    "fields = ['English Word','French Word', 'Frequency']  \n",
    "    \n",
    "    \n",
    "filename = \"frequency.csv\"\n",
    "c=0\n",
    "w=[]\n",
    "with open(filename, 'w',newline='') as csvfile:  \n",
    "    csvwriter = csv.writer(csvfile)   \n",
    "    csvwriter.writerow(fields)\n",
    "    \n",
    "    for key, value in diction.items():\n",
    "        t1=data[data['French']== key].iloc[0]['English']\n",
    "        csvwriter.writerow([t1, key, value])\n",
    "        w.append(key)\n",
    "        c+=1\n",
    "print(\"Count of the Unique English Word that changed into French Words\",c)"
   ]
  },
  {
   "cell_type": "code",
   "execution_count": 13,
   "metadata": {},
   "outputs": [
    {
     "name": "stdout",
     "output_type": "stream",
     "text": [
      "The list of unique french words \n",
      " ['projet', 'monde', 'leur', 'bibliothèque', 'souvent', 'Publique', 'certain', \"droits d'auteur\", 'devrait', 'version', 'Achevée', 'travaux', 'à condition de', 'Université', 'machine', 'lisible', 'copies', 'distribué', 'autres', 'personnel', 'interdit', 'commercial', 'comprend', 'un service', 'Télécharger', 'fier', 'ni', 'sous', 'plaine', 'depuis', 'plus loin', 'aurait', 'sur', \"S'il vous plaît\", 'ceux', 'première', 'moins', 'heures', 'cent', 'lequel', 'nombre', 'papier', 'celles-ci', 'autre', 'point', 'général', 'petit', 'effet', 'droite', 'matière', 'bien que', 'demande', 'ne peux pas', 'fête', 'recevoir', 'découvrir', 'dans', 'argent', 'la personne', 'revenir', 'seconde', 'Express', 'particulier', 'au dessus', 'librement', 'pense', 'écrire', 'le désir', 'pourrait', 'jamais', 'soumissionner', 'brillant', 'fabrication', 'où', 'sucré', 'Frais', 'déchets', 'la tombe', 'doit', 'vaut', 'étant', 'beauté', 'Trésor', 'louange', 'répondre', 'enfant', 'du sang', 'verre', 'dont', 'réparation', 'charmant', 'par', 'malgré', \"d'or\", 'Célibataire', 'image', 'rien', 'donné', 'génial', 'ayant', 'la nature', 'vies', 'doux', 'Cadre', 'chaque', 'habiter', 'été', 'hiver', 'assez', 'des murs', 'fleurs', 'substance', 'encore', 'prêt', 'race', 'un autre', 'fois', 'décès', 'vivant', 'lumière', 'brûlant', 'regards', 'sacré', 'fort', 'jeunesse', 'mortel', 'se lasser', 'faible', 'sauf si', 'la musique', 'plaisir', 'offenser', 'gronder', 'les pièces', 'mari', 'heureux', 'prouver', 'veuve', 'privé', 'forme', 'dépenser', 'vers', 'la honte', 'subvention', 'chef', 'changement', 'présence', 'sans pour autant', 'prime', 'signifiait', 'compter', 'raconte', 'courageux', 'voir', 'Dénudé', 'vert', 'supporté', 'question', 'se', 'plus long', 'venir', 'après', 'problème', 'maison', 'éternel', 'étoiles', 'fortune', 'bref', 'paradis', 'connaissance', 'constant', 'vérité', 'ensemble', 'prospérer', 'boutique', 'considérer', 'chose', 'tient', 'peu', 'néant', 'montre', 'secret', 'apercevoir', 'Etat', 'avant', 'tyran', 'veux dire', 'supporter', 'jeune fille', 'peint', \"vers l'extérieur\", 'garde', 'tiré', 'croyez', 'sait', 'le tiens', 'deux fois', 'rugueux', 'secouer', 'court', 'parfois', 'complexion', 'cours', 'cru', 'Terre', 'cueillir', 'les dents', 'féroce', 'Pardon', 'interdire', 'Là', 'Maître', 'maîtresse', 'cœur', 'faux', 'objet', 'âmes', 'femme', 'forgé', 'objectif', 'vraiment', 'Sein', 'aîné', 'par conséquent', 'palier', 'infirmière', 'oublier', 'parfait', 'force', 'plaider', 'langue', 'apprendre', 'peintre', 'table', 'pendaison', 'se tourne', 'la bride', 'ruse', 'la grâce', 'favoriser', 'triomphe', 'fierté', 'froncer les sourcils', 'gloire', 'mérite', 'écrit', 'témoin', 'pensée', 'vêtements', 'hâte', 'membres', \"avoir l'intention\", 'obscurité', 'aveugle', 'vue', 'ombre', 'bijou', 'fait du', 'noir', 'nuit', 'silencieux', 'avantage', 'ennemis', 'consentement', 'mains', 'des nuages', 'flatter', 'disgrâce', 'seul', 'difficulté', 'malédiction', 'prendre plaisir', 'presque', 'richesse', 'mépris', 'noyer', 'précieux', 'pleurer', 'Compte', 'tandis que', 'aimant', 'enterré', 'les amoureux', 'des os', 'grandi', 'naissance', 'apporté', 'Mars', 'mieux', 'glorieux', 'Matin', 'souverain', 'de bonne heure', 'didst', 'promettre', 'en avant', 'pourri', 'chagrin', 'ours', 'larmes', 'une rançon', 'tache', 'faute', 'apporter', 'légitime', 'civil', 'Besoins', 'voleur', 'avouer', 'aime', 'voler', 'la gentillesse', 'père', 'actes', 'très cher', 'dépit', 'confort', \"qu'il s'agisse\", 'absence', 'loisir', 'divertir', 'Par conséquent', 'faire des reproches', 'goût', 'douleur', 'connu', 'jolie', 'liberté', 'laisser', 'excuse', 'car', 'abuser de', 'ami', 'a trouvé', 'rêves', 'clair', 'lourd', 'sommeil', 'la chair', 'endroit', 'grand', 'eau', 'rapide', 'mouvement', \"jusqu'à\", 'tout droit', 'Titre', 'Soit', 'présent', \"d'où\", 'prix', 'saluer', 'enseigner', 'la bête', 'poids', 'misérable', 'la vitesse', 'colère', 'tranchant', 'cheval', 'ardent', 'solennel', 'capitaine', 'spécial', 'instant', 'étrange', 'joue', 'parler', 'souffle', 'vertu', 'éclat', 'jugement', 'ancien', 'esprit', 'esclave', 'regarder', 'serviteur', 'jaloux', 'affaires', 'lié', 'souffrir', 'la patience', 'pardon', 'cerveaux', 'merveille', 'pire', 'fleurir', 'cruel', 'En effet', 'contraire', 'Mémoire', 'Royaume', 'enseigné', 'peurs', 'action', 'portes', 'acier', 'craintif', 'désert', 'mendiant', 'Foi', 'folie', 'Facile', 'rougir', 'Connard', 'durst', 'voix', 'voyant', 'devine', 'mesure', 'fleur', 'odeur', 'commun', 'mouches', 'calomnie', 'Jeune', 'suspect', 'rappelles toi', 'concevoir', 'porter', 'lâche', 'paix', 'délice', 'de côté', 'toujours', 'déjà', 'commettre', 'profit', 'double', 'argument', 'remercier', 'perdre connaissance', 'humble', 'rendement', 'bénédiction', 'brut', 'silence', 'égal', 'quelque chose', 'cerveau', 'frappé', 'donnant', 'familier', 'fantôme', 'cause', 'vient', 'rêver', 'récit', 'Faire', 'humour', 'trouve', 'révolte', 'Puissance', 'seigneurs', 'couteau', 'doigt', 'fardeau', \"vers l'avant\", 'troisième', 'Couleur', 'compétence', 'Bureau', 'apparaît', 'Dames', 'couronne', 'gouttes', 'prières', 'affections', 'coupable', 'patient', 'amer', 'assurer', 'sens', 'jeter', 'outre', 'partiellement', 'boisson', 'peste', 'préparer', 'raison', 'ensuite', 'esprits', 'mariage', 'accuser', 'inconnue', 'preuve', 'maladie', 'politique', 'la bonté', 'poison', 'ivre', 'pris', 'blessés', 'rester', 'au-delà', 'confiance', 'plutôt', 'entendu', 'mauvaises herbes', 'des chutes', 'mode', 'imbéciles', 'rendre', 'plus tôt', 'derrière', 'jurer', 'devenir', 'blessure', 'prison', 'appris', 'nombreuses', 'crédit', 'habitude', 'ancêtre', 'manière', 'santé', 'désespoir', 'la démence', 'le banquet', 'insensé', 'mériter', 'cassé', 'envoi', 'capture', 'suivre', 'ange', 'Saint', 'du son', 'pitié', 'démon', 'en disant', 'termes', 'Divin', 'en train de mourir', 'désespéré', 'discours', 'juré', 'erreur', 'vengeance', 'culte', 'commandé', 'conscience', 'trahir', 'serments', 'honnête', 'Cupidon', 'procès', 'toucher', 'avec', 'chaste', 'dramatis', 'France', 'français', 'comtesse', 'pitre', 'mère', 'fille', 'voisine', 'scène', 'palais', 'entrer', 'assister', 'passage', 'excellent', 'parlait', 'saison', 'ennemi', 'comprendre', 'bénir', 'sortir', 'ambition', 'tour', 'fantaisie', 'parolles', 'sagesse', 'soldat', 'vaillant', 'guerrier', 'bloque', 'lui-même', \"n'importe quoi\", 'valeur', 'Entreprise', 'servir', 'Conseil', 'poussée', 'nous-mêmes', 'originaire de', 'des douleurs', 'combattu', 'cousin', 'refusé', 'Bienvenue', 'moi même', 'au dessous de', 'Royal', 'quoth', 'contenu', 'fripon', 'diable', 'marier', 'têtes', 'phrase', 'commander', 'reine', 'Chevalier', 'intendant', 'la passion', 'choix', 'Messager', 'charge', 'noble', 'rencontre', 'chèrement', 'chercher', 'danger', 'assisté', 'acheté', 'épée', 'Danse', 'toi même', 'docteur', 'rire', 'ailes', 'traitre', 'majesté', 'de rechange', 'modeste', 'proclamer', 'bonheur', 'infini', 'procéder', 'mandat', 'fastidieux', 'bouche', 'manifestation', 'peur', 'Quatrième', 'créature', 'indigne', 'biens', 'sourire', 'un compagnon', 'rare', 'la fenêtre', 'seigneurie', 'battu', 'commission', 'se soucie', 'prêtre', 'bande de roulement', 'chambre', 'bruit', 'tout', 'rapport', 'ordre', 'entre', 'supplier', 'querelle', 'figure', 'conseil', 'le long de', 'pays', 'commencer', 'défait', 'là-bas', 'horrible', 'compagnon', 'violent', 'vol', 'lettre', 'sol', 'talons', 'embrasse', 'approche', 'misère', 'conduite', 'hôtesse', 'entier', 'galant', 'offre', 'qualité', 'entreprendre', 'tout à coup', 'livrer', 'bas', 'Succès', 'contrefaire', 'déshonorer', 'minuit', 'sport', 'réputation', 'bourse', 'ignorant', 'possible', 'frère', 'correct', 'frappe', 'mécontentement', 'entreprise', 'entraine toi', 'innocent', 'nom', 'se repentir', 'sauf', 'trône', \"la main d'oeuvre\", 'doute', 'prince', 'autorité', 'altesse', 'Madame', 'être comme', 'rue', 'tribunal', 'désormais', 'Naturel', 'infraction', 'puissant', 'se tenait', 'proche', 'Justice', 'épouses', 'le respect', 'prononcer', 'Aller', 'apparaître', 'pompey', 'devin', 'Egypte', 'sœur', 'train', 'parle', 'énobarbus', 'rois', 'soudain', 'Obliger', 'malice', 'pièce', 'traverser', 'tambours', 'gens', 'champ', 'meurtre', 'intention', 'Douane', 'respecter', 'bataille', 'joyeux', 'trompette', 'la grève', 'demander', 'visages', 'bats toi', 'Marcus', 'affection', 'occasion', 'prochainement', 'adieu', \"s'agenouiller\", 'crainte', 'rond', 'estomac', 'malheureux', 'élever', 'tué', 'réunion', 'gorge', 'séparé', 'acclamation', 'servantes', 'chance', 'empereur', 'lieutenant', 'Personnel', 'vide', 'calcul', 'sorcière', 'armure', 'Dolabella', 'scélérat', 'coups', 'Fée', 'chaîne', 'odieux', 'ample', 'courage', 'rive', 'ministre', 'accident vasculaire cérébral', 'étude', 'des trucs', 'péril', 'visite', 'oliver', 'berger', 'forêt', 'orlando', 'remède', 'éviter', 'état', 'courtoisie', 'demain', 'terres', 'oncle', 'disposition', 'ruisseau', 'gaieté', 'sécurité', 'juge', 'trahison', 'sûrement', 'transpiration', 'quelque temps', 'opinion', 'fruit', 'Sept', 'barbe', 'mince', 'goudronneux', 'église', 'ci-après, par la suite', 'phebe', 'des portes', 'creux', 'prétendre', 'recherché', 'satisfait', 'printemps', 'inonder', 'selon', 'marchande', 'Syracuse', 'dispositif', 'peut-être', 'dîner', 'partir', 'livre', 'tailleur', 'damné', 'nu', 'fatal', 'Marcius', 'cominius', 'tribunes', 'citoyenne', 'armes', 'les genoux', 'rivières', 'défendre', 'sénat', 'sourcils', 'sénateur', 'tonnerre', 'cesser', 'Hector', 'la victoire', 'Capitole', 'monstre', 'corps', 'qui concerne', 'éveillé', 'obéissance', 'exécution', 'bannir', 'souper', 'divertissement', 'chaise', 'charité', 'diplôme', 'posthume', 'des noms', 'les forces', 'jardin', 'cailloter', \"à l'étranger\", 'putain', 'révérence', 'dague', 'règne', 'prologue', 'aller plus loin', 'coquin', 'domaine', 'Thomas', 'Edmund', 'Percy', 'sirrah', 'poins', 'pistolet', 'endormi', 'mois', 'maintenir', 'tempête', 'sottises', 'coude', 'défi', 'clarté', 'mowbray', 'Surrey', 'gower', 'Château', 'évêque', 'Oxford', 'décharné', 'gendarme', 'Liege', 'Exeter', 'Paris', 'Bedford', 'suffolk', 'Philippe', 'protecteur', 'cardinal', 'la tour', 'talbot', 'somerset', 'Cromwell', 'margaret', 'Clifford', 'orage', 'Ulysse', 'Wolsey', 'Hubert', 'nièce', 'Milan', 'ce soir', 'cinna', 'Claudio', 'maria', 'Duncan', 'Mariana', 'venise', 'salerio', 'Lorenzo', 'Pandarus', 'Fenton', 'Athènes', 'Oberon', 'Valentin', 'pedro', 'autorisation', 'Émilie', 'Padoue', 'Lucentio', 'Ferdinand', 'Miranda', 'Ariel', 'bassianus', 'polixènes', 'alto', 'Julia', 'lancer', 'leontes', 'paulina']\n"
     ]
    }
   ],
   "source": [
    "print(\"The list of unique french words \\n\",w)"
   ]
  },
  {
   "cell_type": "code",
   "execution_count": 11,
   "metadata": {},
   "outputs": [
    {
     "name": "stdout",
     "output_type": "stream",
     "text": [
      "Memory Used:- (1323452, 1472732)\n"
     ]
    }
   ],
   "source": [
    "print(\"Memory Used:-\",tracemalloc.get_traced_memory())\n",
    "\n",
    "tracemalloc.stop()"
   ]
  },
  {
   "cell_type": "code",
   "execution_count": 12,
   "metadata": {},
   "outputs": [
    {
     "name": "stdout",
     "output_type": "stream",
     "text": [
      "Time Required:- 28.100435256958008\n"
     ]
    }
   ],
   "source": [
    "end=time.time()\n",
    "\n",
    "print(\"Time Required:-\",end-start)"
   ]
  },
  {
   "cell_type": "code",
   "execution_count": null,
   "metadata": {},
   "outputs": [],
   "source": []
  }
 ],
 "metadata": {
  "kernelspec": {
   "display_name": "Python 3",
   "language": "python",
   "name": "python3"
  },
  "language_info": {
   "codemirror_mode": {
    "name": "ipython",
    "version": 3
   },
   "file_extension": ".py",
   "mimetype": "text/x-python",
   "name": "python",
   "nbconvert_exporter": "python",
   "pygments_lexer": "ipython3",
   "version": "3.7.3"
  }
 },
 "nbformat": 4,
 "nbformat_minor": 2
}
